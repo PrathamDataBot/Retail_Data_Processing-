{
 "cells": [
  {
   "cell_type": "markdown",
   "id": "4f784bce",
   "metadata": {},
   "source": [
    "### 1. Import the retail_shop_data file and view the first 5 rows. Check how many rows and columns are in the DataFrame. Check for duplicates."
   ]
  },
  {
   "cell_type": "code",
   "execution_count": 1,
   "id": "07da3bd3",
   "metadata": {},
   "outputs": [
    {
     "name": "stderr",
     "output_type": "stream",
     "text": [
      "C:\\ProgramData\\Anaconda3\\lib\\site-packages\\pandas\\core\\computation\\expressions.py:21: UserWarning: Pandas requires version '2.8.4' or newer of 'numexpr' (version '2.8.3' currently installed).\n",
      "  from pandas.core.computation.check import NUMEXPR_INSTALLED\n",
      "C:\\ProgramData\\Anaconda3\\lib\\site-packages\\pandas\\core\\arrays\\masked.py:60: UserWarning: Pandas requires version '1.3.6' or newer of 'bottleneck' (version '1.3.5' currently installed).\n",
      "  from pandas.core import (\n"
     ]
    },
    {
     "name": "stdout",
     "output_type": "stream",
     "text": [
      "        Date  Customer ID  Product ID Product Name  Cost  Price  Quantity  \\\n",
      "0  1 01 2023         1001         101      T-Shirt    18     20         2   \n",
      "1  1 01 2023         1002         102        Jeans    35     50         1   \n",
      "2  2 01 2023         1003         103       Hoodie    25     30         3   \n",
      "3  3 01 2023         1004         104     Sneakers    55     70         2   \n",
      "4  3 01 2023         1005         105   Sunglasses    17     25         1   \n",
      "\n",
      "   Total  \n",
      "0     40  \n",
      "1     50  \n",
      "2     90  \n",
      "3    140  \n",
      "4     25  \n",
      "(21, 8)\n",
      "0\n"
     ]
    }
   ],
   "source": [
    "import pandas as pd\n",
    "\n",
    "# Load the data\n",
    "file_path = 'retail_shop_data.csv'\n",
    "df = pd.read_csv(file_path)\n",
    "\n",
    "# View the first 5 rows\n",
    "print(df.head())\n",
    "\n",
    "# Check the number of rows and columns\n",
    "print(df.shape)\n",
    "\n",
    "# Check for duplicates\n",
    "print(df.duplicated().sum())"
   ]
  },
  {
   "cell_type": "markdown",
   "id": "39528435",
   "metadata": {},
   "source": [
    "### 2. Create a copy of the DataFrame and rename columns."
   ]
  },
  {
   "cell_type": "code",
   "execution_count": 3,
   "id": "9d4ecea8",
   "metadata": {},
   "outputs": [
    {
     "data": {
      "text/html": [
       "<div>\n",
       "<style scoped>\n",
       "    .dataframe tbody tr th:only-of-type {\n",
       "        vertical-align: middle;\n",
       "    }\n",
       "\n",
       "    .dataframe tbody tr th {\n",
       "        vertical-align: top;\n",
       "    }\n",
       "\n",
       "    .dataframe thead th {\n",
       "        text-align: right;\n",
       "    }\n",
       "</style>\n",
       "<table border=\"1\" class=\"dataframe\">\n",
       "  <thead>\n",
       "    <tr style=\"text-align: right;\">\n",
       "      <th></th>\n",
       "      <th>Date</th>\n",
       "      <th>Customer ID</th>\n",
       "      <th>Product ID</th>\n",
       "      <th>Product Name</th>\n",
       "      <th>Cost Per Product</th>\n",
       "      <th>Price Per Product</th>\n",
       "      <th>Quantity</th>\n",
       "      <th>Revenue</th>\n",
       "    </tr>\n",
       "  </thead>\n",
       "  <tbody>\n",
       "    <tr>\n",
       "      <th>0</th>\n",
       "      <td>1 01 2023</td>\n",
       "      <td>1001</td>\n",
       "      <td>101</td>\n",
       "      <td>T-Shirt</td>\n",
       "      <td>18</td>\n",
       "      <td>20</td>\n",
       "      <td>2</td>\n",
       "      <td>40</td>\n",
       "    </tr>\n",
       "    <tr>\n",
       "      <th>1</th>\n",
       "      <td>1 01 2023</td>\n",
       "      <td>1002</td>\n",
       "      <td>102</td>\n",
       "      <td>Jeans</td>\n",
       "      <td>35</td>\n",
       "      <td>50</td>\n",
       "      <td>1</td>\n",
       "      <td>50</td>\n",
       "    </tr>\n",
       "    <tr>\n",
       "      <th>2</th>\n",
       "      <td>2 01 2023</td>\n",
       "      <td>1003</td>\n",
       "      <td>103</td>\n",
       "      <td>Hoodie</td>\n",
       "      <td>25</td>\n",
       "      <td>30</td>\n",
       "      <td>3</td>\n",
       "      <td>90</td>\n",
       "    </tr>\n",
       "    <tr>\n",
       "      <th>3</th>\n",
       "      <td>3 01 2023</td>\n",
       "      <td>1004</td>\n",
       "      <td>104</td>\n",
       "      <td>Sneakers</td>\n",
       "      <td>55</td>\n",
       "      <td>70</td>\n",
       "      <td>2</td>\n",
       "      <td>140</td>\n",
       "    </tr>\n",
       "    <tr>\n",
       "      <th>4</th>\n",
       "      <td>3 01 2023</td>\n",
       "      <td>1005</td>\n",
       "      <td>105</td>\n",
       "      <td>Sunglasses</td>\n",
       "      <td>17</td>\n",
       "      <td>25</td>\n",
       "      <td>1</td>\n",
       "      <td>25</td>\n",
       "    </tr>\n",
       "  </tbody>\n",
       "</table>\n",
       "</div>"
      ],
      "text/plain": [
       "        Date  Customer ID  Product ID Product Name  Cost Per Product  \\\n",
       "0  1 01 2023         1001         101      T-Shirt                18   \n",
       "1  1 01 2023         1002         102        Jeans                35   \n",
       "2  2 01 2023         1003         103       Hoodie                25   \n",
       "3  3 01 2023         1004         104     Sneakers                55   \n",
       "4  3 01 2023         1005         105   Sunglasses                17   \n",
       "\n",
       "   Price Per Product  Quantity  Revenue  \n",
       "0                 20         2       40  \n",
       "1                 50         1       50  \n",
       "2                 30         3       90  \n",
       "3                 70         2      140  \n",
       "4                 25         1       25  "
      ]
     },
     "execution_count": 3,
     "metadata": {},
     "output_type": "execute_result"
    }
   ],
   "source": [
    "# Create a copy of the DataFrame\n",
    "df_copy = df.copy()\n",
    "\n",
    "# Rename columns\n",
    "df_copy.rename(columns={\"Total\": \"Revenue\", \"Price\": \"Price Per Product\", \"Cost\": \"Cost Per Product\"}, inplace=True)\n",
    "df_copy.head()\n"
   ]
  },
  {
   "cell_type": "markdown",
   "id": "f011420d",
   "metadata": {},
   "source": [
    "### 3. Calculate total cost of products and add this as a column \"Costs\". Calculate the profit and add this as a column \"Profit\"."
   ]
  },
  {
   "cell_type": "code",
   "execution_count": 5,
   "id": "87592342",
   "metadata": {},
   "outputs": [
    {
     "data": {
      "text/html": [
       "<div>\n",
       "<style scoped>\n",
       "    .dataframe tbody tr th:only-of-type {\n",
       "        vertical-align: middle;\n",
       "    }\n",
       "\n",
       "    .dataframe tbody tr th {\n",
       "        vertical-align: top;\n",
       "    }\n",
       "\n",
       "    .dataframe thead th {\n",
       "        text-align: right;\n",
       "    }\n",
       "</style>\n",
       "<table border=\"1\" class=\"dataframe\">\n",
       "  <thead>\n",
       "    <tr style=\"text-align: right;\">\n",
       "      <th></th>\n",
       "      <th>Date</th>\n",
       "      <th>Customer ID</th>\n",
       "      <th>Product ID</th>\n",
       "      <th>Product Name</th>\n",
       "      <th>Cost Per Product</th>\n",
       "      <th>Price Per Product</th>\n",
       "      <th>Quantity</th>\n",
       "      <th>Revenue</th>\n",
       "      <th>Costs</th>\n",
       "      <th>Profit</th>\n",
       "    </tr>\n",
       "  </thead>\n",
       "  <tbody>\n",
       "    <tr>\n",
       "      <th>0</th>\n",
       "      <td>1 01 2023</td>\n",
       "      <td>1001</td>\n",
       "      <td>101</td>\n",
       "      <td>T-Shirt</td>\n",
       "      <td>18</td>\n",
       "      <td>20</td>\n",
       "      <td>2</td>\n",
       "      <td>40</td>\n",
       "      <td>36</td>\n",
       "      <td>4</td>\n",
       "    </tr>\n",
       "    <tr>\n",
       "      <th>1</th>\n",
       "      <td>1 01 2023</td>\n",
       "      <td>1002</td>\n",
       "      <td>102</td>\n",
       "      <td>Jeans</td>\n",
       "      <td>35</td>\n",
       "      <td>50</td>\n",
       "      <td>1</td>\n",
       "      <td>50</td>\n",
       "      <td>35</td>\n",
       "      <td>15</td>\n",
       "    </tr>\n",
       "    <tr>\n",
       "      <th>2</th>\n",
       "      <td>2 01 2023</td>\n",
       "      <td>1003</td>\n",
       "      <td>103</td>\n",
       "      <td>Hoodie</td>\n",
       "      <td>25</td>\n",
       "      <td>30</td>\n",
       "      <td>3</td>\n",
       "      <td>90</td>\n",
       "      <td>75</td>\n",
       "      <td>15</td>\n",
       "    </tr>\n",
       "    <tr>\n",
       "      <th>3</th>\n",
       "      <td>3 01 2023</td>\n",
       "      <td>1004</td>\n",
       "      <td>104</td>\n",
       "      <td>Sneakers</td>\n",
       "      <td>55</td>\n",
       "      <td>70</td>\n",
       "      <td>2</td>\n",
       "      <td>140</td>\n",
       "      <td>110</td>\n",
       "      <td>30</td>\n",
       "    </tr>\n",
       "    <tr>\n",
       "      <th>4</th>\n",
       "      <td>3 01 2023</td>\n",
       "      <td>1005</td>\n",
       "      <td>105</td>\n",
       "      <td>Sunglasses</td>\n",
       "      <td>17</td>\n",
       "      <td>25</td>\n",
       "      <td>1</td>\n",
       "      <td>25</td>\n",
       "      <td>17</td>\n",
       "      <td>8</td>\n",
       "    </tr>\n",
       "  </tbody>\n",
       "</table>\n",
       "</div>"
      ],
      "text/plain": [
       "        Date  Customer ID  Product ID Product Name  Cost Per Product  \\\n",
       "0  1 01 2023         1001         101      T-Shirt                18   \n",
       "1  1 01 2023         1002         102        Jeans                35   \n",
       "2  2 01 2023         1003         103       Hoodie                25   \n",
       "3  3 01 2023         1004         104     Sneakers                55   \n",
       "4  3 01 2023         1005         105   Sunglasses                17   \n",
       "\n",
       "   Price Per Product  Quantity  Revenue  Costs  Profit  \n",
       "0                 20         2       40     36       4  \n",
       "1                 50         1       50     35      15  \n",
       "2                 30         3       90     75      15  \n",
       "3                 70         2      140    110      30  \n",
       "4                 25         1       25     17       8  "
      ]
     },
     "execution_count": 5,
     "metadata": {},
     "output_type": "execute_result"
    }
   ],
   "source": [
    "# Calculate total cost of products and add this as a column \"Costs\"\n",
    "df_copy['Costs'] = df_copy['Cost Per Product'] * df_copy['Quantity']\n",
    "\n",
    "# Calculate the profit and add this as a column \"Profit\"\n",
    "df_copy['Profit'] = df_copy['Revenue'] - df_copy['Costs']\n",
    "\n",
    "df_copy.head()"
   ]
  },
  {
   "cell_type": "markdown",
   "id": "cef9927e",
   "metadata": {},
   "source": [
    "### 4. Add a column \"Filter\" to check for products with a profit margin above 15 dollars."
   ]
  },
  {
   "cell_type": "code",
   "execution_count": 7,
   "id": "24c82ace",
   "metadata": {},
   "outputs": [
    {
     "data": {
      "text/html": [
       "<div>\n",
       "<style scoped>\n",
       "    .dataframe tbody tr th:only-of-type {\n",
       "        vertical-align: middle;\n",
       "    }\n",
       "\n",
       "    .dataframe tbody tr th {\n",
       "        vertical-align: top;\n",
       "    }\n",
       "\n",
       "    .dataframe thead th {\n",
       "        text-align: right;\n",
       "    }\n",
       "</style>\n",
       "<table border=\"1\" class=\"dataframe\">\n",
       "  <thead>\n",
       "    <tr style=\"text-align: right;\">\n",
       "      <th></th>\n",
       "      <th>Date</th>\n",
       "      <th>Customer ID</th>\n",
       "      <th>Product ID</th>\n",
       "      <th>Product Name</th>\n",
       "      <th>Cost Per Product</th>\n",
       "      <th>Price Per Product</th>\n",
       "      <th>Quantity</th>\n",
       "      <th>Revenue</th>\n",
       "      <th>Costs</th>\n",
       "      <th>Profit</th>\n",
       "      <th>Filter</th>\n",
       "    </tr>\n",
       "  </thead>\n",
       "  <tbody>\n",
       "    <tr>\n",
       "      <th>0</th>\n",
       "      <td>1 01 2023</td>\n",
       "      <td>1001</td>\n",
       "      <td>101</td>\n",
       "      <td>T-Shirt</td>\n",
       "      <td>18</td>\n",
       "      <td>20</td>\n",
       "      <td>2</td>\n",
       "      <td>40</td>\n",
       "      <td>36</td>\n",
       "      <td>4</td>\n",
       "      <td>False</td>\n",
       "    </tr>\n",
       "    <tr>\n",
       "      <th>1</th>\n",
       "      <td>1 01 2023</td>\n",
       "      <td>1002</td>\n",
       "      <td>102</td>\n",
       "      <td>Jeans</td>\n",
       "      <td>35</td>\n",
       "      <td>50</td>\n",
       "      <td>1</td>\n",
       "      <td>50</td>\n",
       "      <td>35</td>\n",
       "      <td>15</td>\n",
       "      <td>False</td>\n",
       "    </tr>\n",
       "    <tr>\n",
       "      <th>2</th>\n",
       "      <td>2 01 2023</td>\n",
       "      <td>1003</td>\n",
       "      <td>103</td>\n",
       "      <td>Hoodie</td>\n",
       "      <td>25</td>\n",
       "      <td>30</td>\n",
       "      <td>3</td>\n",
       "      <td>90</td>\n",
       "      <td>75</td>\n",
       "      <td>15</td>\n",
       "      <td>False</td>\n",
       "    </tr>\n",
       "    <tr>\n",
       "      <th>3</th>\n",
       "      <td>3 01 2023</td>\n",
       "      <td>1004</td>\n",
       "      <td>104</td>\n",
       "      <td>Sneakers</td>\n",
       "      <td>55</td>\n",
       "      <td>70</td>\n",
       "      <td>2</td>\n",
       "      <td>140</td>\n",
       "      <td>110</td>\n",
       "      <td>30</td>\n",
       "      <td>True</td>\n",
       "    </tr>\n",
       "    <tr>\n",
       "      <th>4</th>\n",
       "      <td>3 01 2023</td>\n",
       "      <td>1005</td>\n",
       "      <td>105</td>\n",
       "      <td>Sunglasses</td>\n",
       "      <td>17</td>\n",
       "      <td>25</td>\n",
       "      <td>1</td>\n",
       "      <td>25</td>\n",
       "      <td>17</td>\n",
       "      <td>8</td>\n",
       "      <td>False</td>\n",
       "    </tr>\n",
       "  </tbody>\n",
       "</table>\n",
       "</div>"
      ],
      "text/plain": [
       "        Date  Customer ID  Product ID Product Name  Cost Per Product  \\\n",
       "0  1 01 2023         1001         101      T-Shirt                18   \n",
       "1  1 01 2023         1002         102        Jeans                35   \n",
       "2  2 01 2023         1003         103       Hoodie                25   \n",
       "3  3 01 2023         1004         104     Sneakers                55   \n",
       "4  3 01 2023         1005         105   Sunglasses                17   \n",
       "\n",
       "   Price Per Product  Quantity  Revenue  Costs  Profit  Filter  \n",
       "0                 20         2       40     36       4   False  \n",
       "1                 50         1       50     35      15   False  \n",
       "2                 30         3       90     75      15   False  \n",
       "3                 70         2      140    110      30    True  \n",
       "4                 25         1       25     17       8   False  "
      ]
     },
     "execution_count": 7,
     "metadata": {},
     "output_type": "execute_result"
    }
   ],
   "source": [
    "# Add a column \"Filter\"\n",
    "df_copy['Filter'] = df_copy['Profit'] > 15\n",
    "\n",
    "df_copy.head()"
   ]
  },
  {
   "cell_type": "markdown",
   "id": "9c0c7a98",
   "metadata": {},
   "source": [
    "### 5. Which products have a profit margin of over 15 dollars?"
   ]
  },
  {
   "cell_type": "code",
   "execution_count": 9,
   "id": "37127902",
   "metadata": {},
   "outputs": [
    {
     "name": "stdout",
     "output_type": "stream",
     "text": [
      "         Date  Customer ID  Product ID Product Name  Cost Per Product  \\\n",
      "3   3 01 2023         1004         104     Sneakers                55   \n",
      "7   6 01 2023         1008         108       Jacket                63   \n",
      "13  9 01 2023         1008         108       Jacket                63   \n",
      "\n",
      "    Price Per Product  Quantity  Revenue  Costs  Profit  Filter  \n",
      "3                  70         2      140    110      30    True  \n",
      "7                  80         1       80     63      17    True  \n",
      "13                 80         2      160    126      34    True  \n"
     ]
    }
   ],
   "source": [
    "# Filter products with profit margin over 15 dollars\n",
    "high_profit_products = df_copy[df_copy['Filter']]\n",
    "print(high_profit_products)"
   ]
  },
  {
   "cell_type": "code",
   "execution_count": 30,
   "id": "627d6676",
   "metadata": {},
   "outputs": [
    {
     "data": {
      "text/plain": [
       "['Sneakers', 'Jacket', 'Jacket']"
      ]
     },
     "execution_count": 30,
     "metadata": {},
     "output_type": "execute_result"
    }
   ],
   "source": [
    "high_profit_products['Product Name'].tolist()"
   ]
  },
  {
   "cell_type": "markdown",
   "id": "b5604647",
   "metadata": {},
   "source": [
    "### 6. Check the difference in profit between jackets and sneakers."
   ]
  },
  {
   "cell_type": "code",
   "execution_count": 31,
   "id": "db9ac9ba",
   "metadata": {},
   "outputs": [
    {
     "name": "stdout",
     "output_type": "stream",
     "text": [
      "21\n"
     ]
    }
   ],
   "source": [
    "# Calculate the profit for jackets and sneakers\n",
    "jacket_profit = df_copy[df_copy['Product Name'] == 'Jacket']['Profit'].sum()\n",
    "sneakers_profit = df_copy[df_copy['Product Name'] == 'Sneakers']['Profit'].sum()\n",
    "profit_difference = jacket_profit - sneakers_profit\n",
    "\n",
    "print(profit_difference)"
   ]
  },
  {
   "cell_type": "markdown",
   "id": "b2b0656d",
   "metadata": {},
   "source": [
    "### 7. Difference in costs between the most profitable product and the least profitable product."
   ]
  },
  {
   "cell_type": "code",
   "execution_count": 32,
   "id": "8f3b5c41",
   "metadata": {},
   "outputs": [
    {
     "name": "stdout",
     "output_type": "stream",
     "text": [
      "98\n"
     ]
    }
   ],
   "source": [
    "# Most and least profitable products\n",
    "most_profitable = df_copy.loc[df_copy['Profit'].idxmax()]\n",
    "least_profitable = df_copy.loc[df_copy['Profit'].idxmin()]\n",
    "\n",
    "cost_difference = most_profitable['Costs'] - least_profitable['Costs']\n",
    "\n",
    "print(cost_difference)"
   ]
  },
  {
   "cell_type": "markdown",
   "id": "ad47f8a1",
   "metadata": {},
   "source": [
    "### 8. Access the total costs of jackets using the .loc attribute."
   ]
  },
  {
   "cell_type": "code",
   "execution_count": 33,
   "id": "bc233769",
   "metadata": {},
   "outputs": [
    {
     "name": "stdout",
     "output_type": "stream",
     "text": [
      "189\n"
     ]
    }
   ],
   "source": [
    "# Total costs of jackets\n",
    "jacket_costs = df_copy.loc[df_copy['Product Name'] == 'Jacket', 'Costs'].sum()\n",
    "\n",
    "print(jacket_costs)"
   ]
  },
  {
   "cell_type": "markdown",
   "id": "99fc6729",
   "metadata": {},
   "source": [
    "### 9. Create a bar stack plot of the sales, costs, and profits of the 6 least profitable products."
   ]
  },
  {
   "cell_type": "code",
   "execution_count": 17,
   "id": "4bdddf04",
   "metadata": {},
   "outputs": [
    {
     "data": {
      "image/png": "[encoded data removed]",
      "text/plain": [
       "<Figure size 640x480 with 1 Axes>"
      ]
     },
     "metadata": {},
     "output_type": "display_data"
    }
   ],
   "source": [
    "import matplotlib.pyplot as plt\n",
    "\n",
    "# Sort by profit in ascending order and select the 6 least profitable products\n",
    "least_profitable_products = df_copy.nsmallest(6, 'Profit')\n",
    "\n",
    "# Plot\n",
    "plt.bar(least_profitable_products['Product Name'], least_profitable_products['Revenue'], label='Revenue')\n",
    "plt.bar(least_profitable_products['Product Name'], least_profitable_products['Costs'], bottom=least_profitable_products['Revenue'], label='Costs')\n",
    "plt.bar(least_profitable_products['Product Name'], least_profitable_products['Profit'], bottom=least_profitable_products['Costs']+least_profitable_products['Revenue'], label='Profit')\n",
    "\n",
    "plt.xlabel('Product Name')\n",
    "plt.ylabel('Amount')\n",
    "plt.title('Sales, Costs, and Profits of the 6 Least Profitable Products')\n",
    "plt.legend()\n",
    "\n",
    "plt.show()"
   ]
  },
  {
   "cell_type": "markdown",
   "id": "918e6278",
   "metadata": {},
   "source": [
    "### 10. Calculate the profit of the sunglasses using the .loc attribute."
   ]
  },
  {
   "cell_type": "code",
   "execution_count": 34,
   "id": "8c937106",
   "metadata": {},
   "outputs": [
    {
     "name": "stdout",
     "output_type": "stream",
     "text": [
      "8\n"
     ]
    }
   ],
   "source": [
    "# Profit of sunglasses\n",
    "sunglasses_profit = df_copy.loc[df_copy['Product Name'] == 'Sunglasses', 'Profit'].sum()\n",
    "\n",
    "print(sunglasses_profit)"
   ]
  },
  {
   "cell_type": "markdown",
   "id": "584d6488",
   "metadata": {},
   "source": [
    "### 11. Calculate the profit of hoodies using the .loc attribute."
   ]
  },
  {
   "cell_type": "code",
   "execution_count": 21,
   "id": "6d6c8764",
   "metadata": {},
   "outputs": [
    {
     "name": "stdout",
     "output_type": "stream",
     "text": [
      "15\n"
     ]
    }
   ],
   "source": [
    "# Profit of hoodies\n",
    "hoodies_profit = df_copy.loc[df_copy['Product Name'] == 'Hoodie', 'Profit'].sum()\n",
    "\n",
    "print(hoodies_profit)"
   ]
  },
  {
   "cell_type": "markdown",
   "id": "6a4dbca5",
   "metadata": {},
   "source": [
    "### 12. Return the names of the two least profitable products using the .iloc attribute."
   ]
  },
  {
   "cell_type": "code",
   "execution_count": 23,
   "id": "fec775e3",
   "metadata": {},
   "outputs": [
    {
     "name": "stdout",
     "output_type": "stream",
     "text": [
      "16    Wallet\n",
      "12    Beanie\n",
      "Name: Product Name, dtype: object\n"
     ]
    }
   ],
   "source": [
    "# Two least profitable products\n",
    "least_profitable_names = df_copy.nsmallest(2, 'Profit')['Product Name']\n",
    "\n",
    "print(least_profitable_names)"
   ]
  },
  {
   "cell_type": "markdown",
   "id": "291e51ae",
   "metadata": {},
   "source": [
    "### 13. Return a DataFrame subset of the most profitable product using the .loc attribute."
   ]
  },
  {
   "cell_type": "code",
   "execution_count": 25,
   "id": "02ca5fbd",
   "metadata": {},
   "outputs": [
    {
     "name": "stdout",
     "output_type": "stream",
     "text": [
      "Date                 9 01 2023\n",
      "Customer ID               1008\n",
      "Product ID                 108\n",
      "Product Name            Jacket\n",
      "Cost Per Product            63\n",
      "Price Per Product           80\n",
      "Quantity                     2\n",
      "Revenue                    160\n",
      "Costs                      126\n",
      "Profit                      34\n",
      "Filter                    True\n",
      "Name: 13, dtype: object\n"
     ]
    }
   ],
   "source": [
    "# Most profitable product\n",
    "most_profitable_subset = df_copy.loc[df_copy['Profit'].idxmax()]\n",
    "\n",
    "print(most_profitable_subset)"
   ]
  },
  {
   "cell_type": "markdown",
   "id": "cfd491fa",
   "metadata": {},
   "source": [
    "### 14. Create a scatter plot to visualize the relationship between sales and costs for each product using Seaborn."
   ]
  },
  {
   "cell_type": "code",
   "execution_count": 27,
   "id": "d5995b9a",
   "metadata": {},
   "outputs": [
    {
     "name": "stderr",
     "output_type": "stream",
     "text": [
      "C:\\ProgramData\\Anaconda3\\lib\\site-packages\\scipy\\__init__.py:155: UserWarning: A NumPy version >=1.18.5 and <1.25.0 is required for this version of SciPy (detected version 1.26.4\n",
      "  warnings.warn(f\"A NumPy version >={np_minversion} and <{np_maxversion}\"\n"
     ]
    },
    {
     "data": {
      "image/png": "[encoded data removed]",
      "text/plain": [
       "<Figure size 640x480 with 1 Axes>"
      ]
     },
     "metadata": {},
     "output_type": "display_data"
    }
   ],
   "source": [
    "import seaborn as sns\n",
    "\n",
    "# Scatter plot\n",
    "sns.scatterplot(x='Revenue', y='Costs', data=df_copy)\n",
    "\n",
    "plt.xlabel('Sales')\n",
    "plt.ylabel('Costs')\n",
    "plt.title('Relationship between Sales and Costs')\n",
    "plt.show()"
   ]
  }
 ],
 "metadata": {
  "kernelspec": {
   "display_name": "Python 3 (ipykernel)",
   "language": "python",
   "name": "python3"
  },
  "language_info": {
   "codemirror_mode": {
    "name": "ipython",
    "version": 3
   },
   "file_extension": ".py",
   "mimetype": "text/x-python",
   "name": "python",
   "nbconvert_exporter": "python",
   "pygments_lexer": "ipython3",
   "version": "3.9.13"
  }
 },
 "nbformat": 4,
 "nbformat_minor": 5
}
